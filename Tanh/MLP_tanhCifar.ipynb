{
  "nbformat": 4,
  "nbformat_minor": 0,
  "metadata": {
    "colab": {
      "name": "MLP_tanhCifar",
      "version": "0.3.2",
      "provenance": [],
      "collapsed_sections": []
    },
    "kernelspec": {
      "name": "python3",
      "display_name": "Python 3"
    },
    "accelerator": "GPU"
  },
  "cells": [
    {
      "metadata": {
        "id": "e8Z7lgBM1nly",
        "colab_type": "text"
      },
      "cell_type": "markdown",
      "source": [
        "# **CIFAR -10 DATASETS**\n",
        "\n",
        "The aim is to build a multilayer perecptron which will classify test images in 10 different categories(classes) using Tanh as an activation function for hidden layer."
      ]
    },
    {
      "metadata": {
        "id": "EIE8o2Y51sjw",
        "colab_type": "text"
      },
      "cell_type": "markdown",
      "source": [
        "Steps followed to build a MLP\n",
        "\n",
        "1.  Load libraries keras for accessing layers, activations and optimizers, matplotlib for plotting accuracies and numpy because the input data is stored in arrays\n",
        "\n",
        "2. Load the cifar-10 datasets\n",
        "\n",
        "3. Load model type, activations, layers to be used and optimizers which are used\n",
        "\n",
        "4. Categorize the labels of test to 10 classes as our output will one of the 10 categories\n",
        "\n",
        "5. Normalize Data \n",
        "\n",
        "6. Start adding layers to model, compile the model, then fit the model where the training of data happens and finally in evaluate you test your model against the test data.\n",
        "\n",
        "7. Plot your validation accuracy to check the accuracy of your model.\n",
        "\n",
        "8. To modify your accuracies you tweak hyperparameters and repeat the process."
      ]
    },
    {
      "metadata": {
        "id": "gOsDSaQg8VUe",
        "colab_type": "code",
        "outputId": "acb7716b-7357-4b17-edd9-8e736266d1c8",
        "colab": {
          "base_uri": "https://localhost:8080/",
          "height": 35
        }
      },
      "cell_type": "code",
      "source": [
        "import keras\n",
        "import numpy as np\n",
        "\n",
        "import matplotlib.pyplot as plt\n",
        "%matplotlib inline"
      ],
      "execution_count": 1,
      "outputs": [
        {
          "output_type": "stream",
          "text": [
            "Using TensorFlow backend.\n"
          ],
          "name": "stderr"
        }
      ]
    },
    {
      "metadata": {
        "id": "Fly2FDwy8ndf",
        "colab_type": "code",
        "colab": {}
      },
      "cell_type": "code",
      "source": [
        "from keras.datasets import cifar10\n",
        "\n",
        "(train_images, train_labels), (test_images, test_labels) = cifar10.load_data()"
      ],
      "execution_count": 0,
      "outputs": []
    },
    {
      "metadata": {
        "id": "NhdUGIJY8qmX",
        "colab_type": "code",
        "colab": {}
      },
      "cell_type": "code",
      "source": [
        "from keras.models import Sequential\n",
        "\n",
        "\n",
        "from keras.layers import Activation, Dense, Dropout, Flatten\n",
        "\n",
        "from keras.optimizers import rmsprop, SGD\n"
      ],
      "execution_count": 0,
      "outputs": []
    },
    {
      "metadata": {
        "id": "5qge2a-d8st2",
        "colab_type": "code",
        "colab": {}
      },
      "cell_type": "code",
      "source": [
        "from keras.utils import to_categorical\n",
        "\n",
        "train_labels = to_categorical(train_labels,10)\n",
        "test_labels = to_categorical(test_labels,10)"
      ],
      "execution_count": 0,
      "outputs": []
    },
    {
      "metadata": {
        "id": "nGipqQsa9Xfc",
        "colab_type": "code",
        "colab": {}
      },
      "cell_type": "code",
      "source": [
        "\n",
        "\n",
        "# Transform images from (32,32,3) to 3072-dimensional vectors (32*32*3)\n",
        "\n",
        "X_train = train_images.astype('float32')\n",
        "X_test = test_images.astype('float32')\n",
        "\n",
        "# Normalization of pixel values (to [0-1] range)\n",
        "\n",
        "X_train /= 255\n",
        "X_test /= 255"
      ],
      "execution_count": 0,
      "outputs": []
    },
    {
      "metadata": {
        "id": "0cvKh6--8u-H",
        "colab_type": "text"
      },
      "cell_type": "markdown",
      "source": [
        "#Model one parameters\n",
        "\n",
        "Selected the values randomly which people generally start with.\n",
        "\n",
        "1.   Hidden layers = 3\n",
        "2.   hidden_num_units = 2048, 1024, 512\n",
        "3.   output_num_units = 10\n",
        "4.   epochs = 20\n",
        "5.   batch_size = 128\n",
        "6.   output activation_function = 'Relu'\n",
        "7.   layer activation_function = \"tanh\"\n"
      ]
    },
    {
      "metadata": {
        "id": "sh4Td1ae8uIR",
        "colab_type": "code",
        "colab": {}
      },
      "cell_type": "code",
      "source": [
        "\n",
        "\n",
        "model = Sequential()\n",
        "model.add(Flatten(input_shape=(32, 32, 3)))\n",
        "model.add(Dense(2048, activation='tanh'))\n",
        "model.add(Dropout(0.2))\n",
        "\n",
        "model.add(Dense(1024, activation='tanh'))\n",
        "model.add(Dropout(0.2))\n",
        "\n",
        "model.add(Dense(512,activation='tanh'))\n",
        "model.add(Dropout(0.2))\n",
        "\n",
        "model.add(Dense(10, activation='relu'))\n",
        "\n",
        "\n",
        "model.compile(optimizer='rmsprop',\n",
        "                loss='categorical_crossentropy',\n",
        "                metrics=['accuracy'])\n",
        "\n"
      ],
      "execution_count": 0,
      "outputs": []
    },
    {
      "metadata": {
        "id": "QuBBXd2G9cv4",
        "colab_type": "code",
        "outputId": "f1b44047-5212-401d-b1d2-127bcccf22f0",
        "colab": {
          "base_uri": "https://localhost:8080/",
          "height": 764
        }
      },
      "cell_type": "code",
      "source": [
        "#def fitTheModel():\n",
        "  \n",
        "  history1 = model.fit(X_train, train_labels, epochs=20, batch_size=128, validation_data=(X_test,test_labels))\n",
        "  \n",
        "  score1 = model.evaluate(X_test,test_labels)\n",
        "  \n",
        "  "
      ],
      "execution_count": 0,
      "outputs": [
        {
          "output_type": "stream",
          "text": [
            "Train on 50000 samples, validate on 10000 samples\n",
            "Epoch 1/20\n",
            "50000/50000 [==============================] - 14s 280us/step - loss: 2.2543 - acc: 0.1512 - val_loss: 2.2215 - val_acc: 0.1873\n",
            "Epoch 2/20\n",
            "50000/50000 [==============================] - 12s 242us/step - loss: 2.1866 - acc: 0.1743 - val_loss: 2.0999 - val_acc: 0.1841\n",
            "Epoch 3/20\n",
            "50000/50000 [==============================] - 12s 235us/step - loss: 2.1403 - acc: 0.1839 - val_loss: 2.0620 - val_acc: 0.2050\n",
            "Epoch 4/20\n",
            "50000/50000 [==============================] - 12s 240us/step - loss: 2.1137 - acc: 0.1958 - val_loss: 2.0817 - val_acc: 0.2117\n",
            "Epoch 5/20\n",
            "50000/50000 [==============================] - 12s 245us/step - loss: 2.1044 - acc: 0.2120 - val_loss: 2.0634 - val_acc: 0.2158\n",
            "Epoch 6/20\n",
            "50000/50000 [==============================] - 12s 233us/step - loss: 2.0834 - acc: 0.2267 - val_loss: 2.0276 - val_acc: 0.2420\n",
            "Epoch 7/20\n",
            "50000/50000 [==============================] - 12s 235us/step - loss: 2.0802 - acc: 0.2382 - val_loss: 2.2503 - val_acc: 0.2112\n",
            "Epoch 8/20\n",
            "50000/50000 [==============================] - 12s 243us/step - loss: 2.0427 - acc: 0.2511 - val_loss: 2.0468 - val_acc: 0.2293\n",
            "Epoch 9/20\n",
            "50000/50000 [==============================] - 12s 237us/step - loss: 2.0659 - acc: 0.2534 - val_loss: 2.0307 - val_acc: 0.2462\n",
            "Epoch 10/20\n",
            "50000/50000 [==============================] - 12s 238us/step - loss: 2.0420 - acc: 0.2620 - val_loss: 2.0241 - val_acc: 0.2636\n",
            "Epoch 11/20\n",
            "50000/50000 [==============================] - 12s 241us/step - loss: 2.0568 - acc: 0.2606 - val_loss: 1.9725 - val_acc: 0.2703\n",
            "Epoch 12/20\n",
            "50000/50000 [==============================] - 12s 235us/step - loss: 2.0434 - acc: 0.2668 - val_loss: 2.0244 - val_acc: 0.2496\n",
            "Epoch 13/20\n",
            "50000/50000 [==============================] - 12s 240us/step - loss: 2.0386 - acc: 0.2747 - val_loss: 2.2307 - val_acc: 0.2586\n",
            "Epoch 14/20\n",
            "50000/50000 [==============================] - 12s 238us/step - loss: 2.0332 - acc: 0.2706 - val_loss: 2.0130 - val_acc: 0.2430\n",
            "Epoch 15/20\n",
            "50000/50000 [==============================] - 12s 236us/step - loss: 2.0218 - acc: 0.2732 - val_loss: 1.9699 - val_acc: 0.2711\n",
            "Epoch 16/20\n",
            "50000/50000 [==============================] - 12s 240us/step - loss: 2.0197 - acc: 0.2785 - val_loss: 2.0612 - val_acc: 0.2803\n",
            "Epoch 17/20\n",
            "50000/50000 [==============================] - 12s 235us/step - loss: 2.0298 - acc: 0.2814 - val_loss: 2.0052 - val_acc: 0.2598\n",
            "Epoch 18/20\n",
            "50000/50000 [==============================] - 12s 234us/step - loss: 2.0176 - acc: 0.2838 - val_loss: 1.9425 - val_acc: 0.2990\n",
            "Epoch 19/20\n",
            "50000/50000 [==============================] - 12s 240us/step - loss: 2.0027 - acc: 0.2829 - val_loss: 1.9531 - val_acc: 0.2989\n",
            "Epoch 20/20\n",
            "50000/50000 [==============================] - 11s 229us/step - loss: 1.9926 - acc: 0.2865 - val_loss: 1.9880 - val_acc: 0.2989\n",
            "10000/10000 [==============================] - 2s 192us/step\n"
          ],
          "name": "stdout"
        }
      ]
    },
    {
      "metadata": {
        "colab_type": "code",
        "outputId": "cf039b6b-dfd0-48bf-a8c8-29217cb3cdd2",
        "id": "NWxR_oDuiQIv",
        "colab": {
          "base_uri": "https://localhost:8080/",
          "height": 52
        }
      },
      "cell_type": "code",
      "source": [
        "  print('Test loss:', score1[0])\n",
        "  print('Test accuracy:', score1[1])"
      ],
      "execution_count": 0,
      "outputs": [
        {
          "output_type": "stream",
          "text": [
            "Test loss: 1.9879794591903686\n",
            "Test accuracy: 0.2989\n"
          ],
          "name": "stdout"
        }
      ]
    },
    {
      "metadata": {
        "colab_type": "code",
        "outputId": "f9f73368-2881-43dc-a854-b160697fc759",
        "id": "horL-mCniQI0",
        "colab": {
          "base_uri": "https://localhost:8080/",
          "height": 294
        }
      },
      "cell_type": "code",
      "source": [
        "# summarize history for accuracy\n",
        "plt.plot(history1.history['acc'])\n",
        "plt.plot(history1.history['val_acc'])\n",
        "plt.title('model accuracy')\n",
        "plt.ylabel('accuracy')\n",
        "plt.xlabel('epoch')\n",
        "plt.legend(['train', 'test'], loc='upper left')\n",
        "plt.show()"
      ],
      "execution_count": 0,
      "outputs": [
        {
          "output_type": "display_data",
          "data": {
            "image/png": "[encoded data removed]",
            "text/plain": [
              "<Figure size 432x288 with 1 Axes>"
            ]
          },
          "metadata": {
            "tags": []
          }
        }
      ]
    },
    {
      "metadata": {
        "colab_type": "code",
        "outputId": "6fc79b96-4d2c-4b15-e6c8-34372c6bd185",
        "id": "gyhj8DnPiQI5",
        "colab": {
          "base_uri": "https://localhost:8080/",
          "height": 294
        }
      },
      "cell_type": "code",
      "source": [
        "# summarize history for accuracy\n",
        "plt.plot(history1.history['loss'])\n",
        "plt.plot(history1.history['val_loss'])\n",
        "plt.title('model loss')\n",
        "plt.ylabel('accuracy')\n",
        "plt.xlabel('epoch')\n",
        "plt.legend(['train', 'test'], loc='upper left')\n",
        "plt.show()"
      ],
      "execution_count": 0,
      "outputs": [
        {
          "output_type": "display_data",
          "data": {
            "image/png": "[encoded data removed]",
            "text/plain": [
              "<Figure size 432x288 with 1 Axes>"
            ]
          },
          "metadata": {
            "tags": []
          }
        }
      ]
    },
    {
      "metadata": {
        "colab_type": "text",
        "id": "vV2JfWoHUSgU"
      },
      "cell_type": "markdown",
      "source": [
        "#Model two parameters\n",
        "\n",
        "To improve I changed my output activation to softmax which is the best for multiclass problems assuming it would improve my accuracy.\n",
        "\n",
        "1.   Hidden layers = 3\n",
        "2.   hidden_num_units = 2048, 1024, 512\n",
        "3.   output_num_units = 10\n",
        "4.   epochs = 40\n",
        "5.   batch_size = 128\n",
        "6.   output activation_function = 'softmax'\n",
        "7.   layer activation_function = \"tanh\"\n"
      ]
    },
    {
      "metadata": {
        "colab_type": "code",
        "id": "ZA-8wIbgUSga",
        "colab": {}
      },
      "cell_type": "code",
      "source": [
        "\n",
        "\n",
        "model = Sequential()\n",
        "model.add(Flatten(input_shape=(32, 32, 3)))\n",
        "model.add(Dense(2048, activation='tanh'))\n",
        "model.add(Dropout(0.2))\n",
        "\n",
        "model.add(Dense(1024, activation='tanh'))\n",
        "model.add(Dropout(0.2))\n",
        "\n",
        "model.add(Dense(512,activation='tanh'))\n",
        "model.add(Dropout(0.2))\n",
        "\n",
        "model.add(Dense(10, activation='softmax'))\n",
        "\n",
        "\n",
        "model.compile(optimizer='rmsprop',\n",
        "                loss='categorical_crossentropy',\n",
        "                metrics=['accuracy'])\n",
        "\n"
      ],
      "execution_count": 0,
      "outputs": []
    },
    {
      "metadata": {
        "colab_type": "code",
        "outputId": "836b0f8e-3045-4949-9a90-423135b5e2e3",
        "id": "iIy3i4e8USgn",
        "colab": {
          "base_uri": "https://localhost:8080/",
          "height": 1475
        }
      },
      "cell_type": "code",
      "source": [
        "#def fitTheModel():\n",
        "  \n",
        "  history1 = model.fit(X_train, train_labels, epochs=40, batch_size=128, validation_data=(X_test,test_labels))\n",
        "  \n",
        "  score1 = model.evaluate(X_test,test_labels)\n",
        "  \n",
        "  "
      ],
      "execution_count": 0,
      "outputs": [
        {
          "output_type": "stream",
          "text": [
            "Train on 50000 samples, validate on 10000 samples\n",
            "Epoch 1/40\n",
            "50000/50000 [==============================] - 13s 258us/step - loss: 2.8532 - acc: 0.0996 - val_loss: 2.3452 - val_acc: 0.1000\n",
            "Epoch 2/40\n",
            "50000/50000 [==============================] - 12s 230us/step - loss: 2.4656 - acc: 0.0985 - val_loss: 2.4402 - val_acc: 0.1000\n",
            "Epoch 3/40\n",
            "50000/50000 [==============================] - 12s 235us/step - loss: 2.4301 - acc: 0.0996 - val_loss: 2.4226 - val_acc: 0.1000\n",
            "Epoch 4/40\n",
            "50000/50000 [==============================] - 11s 227us/step - loss: 2.4000 - acc: 0.1023 - val_loss: 2.3393 - val_acc: 0.1000\n",
            "Epoch 5/40\n",
            "50000/50000 [==============================] - 11s 227us/step - loss: 2.3874 - acc: 0.1002 - val_loss: 2.4342 - val_acc: 0.1000\n",
            "Epoch 6/40\n",
            "50000/50000 [==============================] - 12s 231us/step - loss: 2.3751 - acc: 0.1004 - val_loss: 2.4455 - val_acc: 0.1000\n",
            "Epoch 7/40\n",
            "50000/50000 [==============================] - 12s 232us/step - loss: 2.3682 - acc: 0.1005 - val_loss: 2.3350 - val_acc: 0.1000\n",
            "Epoch 8/40\n",
            "50000/50000 [==============================] - 11s 224us/step - loss: 2.3641 - acc: 0.1003 - val_loss: 2.3601 - val_acc: 0.1000\n",
            "Epoch 9/40\n",
            "50000/50000 [==============================] - 11s 228us/step - loss: 2.3635 - acc: 0.0997 - val_loss: 2.3695 - val_acc: 0.1000\n",
            "Epoch 10/40\n",
            "50000/50000 [==============================] - 12s 231us/step - loss: 2.3586 - acc: 0.1027 - val_loss: 2.3671 - val_acc: 0.1000\n",
            "Epoch 11/40\n",
            "50000/50000 [==============================] - 11s 226us/step - loss: 2.3598 - acc: 0.0989 - val_loss: 2.3482 - val_acc: 0.1000\n",
            "Epoch 12/40\n",
            "50000/50000 [==============================] - 12s 230us/step - loss: 2.3595 - acc: 0.0984 - val_loss: 2.3452 - val_acc: 0.1000\n",
            "Epoch 13/40\n",
            "50000/50000 [==============================] - 12s 237us/step - loss: 2.3580 - acc: 0.0983 - val_loss: 2.3505 - val_acc: 0.1000\n",
            "Epoch 14/40\n",
            "50000/50000 [==============================] - 11s 229us/step - loss: 2.3591 - acc: 0.0981 - val_loss: 2.3641 - val_acc: 0.1000\n",
            "Epoch 15/40\n",
            "50000/50000 [==============================] - 11s 229us/step - loss: 2.3582 - acc: 0.0986 - val_loss: 2.3608 - val_acc: 0.1000\n",
            "Epoch 16/40\n",
            "50000/50000 [==============================] - 12s 234us/step - loss: 2.3567 - acc: 0.0997 - val_loss: 2.3373 - val_acc: 0.1000\n",
            "Epoch 17/40\n",
            "50000/50000 [==============================] - 11s 228us/step - loss: 2.3591 - acc: 0.0984 - val_loss: 2.3790 - val_acc: 0.1000\n",
            "Epoch 18/40\n",
            "50000/50000 [==============================] - 11s 226us/step - loss: 2.3560 - acc: 0.0997 - val_loss: 2.4027 - val_acc: 0.1000\n",
            "Epoch 19/40\n",
            "50000/50000 [==============================] - 12s 231us/step - loss: 2.3576 - acc: 0.0966 - val_loss: 2.4258 - val_acc: 0.1000\n",
            "Epoch 20/40\n",
            "50000/50000 [==============================] - 12s 231us/step - loss: 2.3552 - acc: 0.0996 - val_loss: 2.3834 - val_acc: 0.1000\n",
            "Epoch 21/40\n",
            "50000/50000 [==============================] - 11s 224us/step - loss: 2.3601 - acc: 0.0981 - val_loss: 2.4026 - val_acc: 0.1000\n",
            "Epoch 22/40\n",
            "50000/50000 [==============================] - 11s 229us/step - loss: 2.3570 - acc: 0.0981 - val_loss: 2.3553 - val_acc: 0.1000\n",
            "Epoch 23/40\n",
            "50000/50000 [==============================] - 11s 224us/step - loss: 2.3552 - acc: 0.1001 - val_loss: 2.3256 - val_acc: 0.1000\n",
            "Epoch 24/40\n",
            "50000/50000 [==============================] - 12s 248us/step - loss: 2.3543 - acc: 0.1000 - val_loss: 2.3593 - val_acc: 0.1000\n",
            "Epoch 25/40\n",
            "50000/50000 [==============================] - 12s 241us/step - loss: 2.3572 - acc: 0.0998 - val_loss: 2.3565 - val_acc: 0.1000\n",
            "Epoch 26/40\n",
            "50000/50000 [==============================] - 12s 232us/step - loss: 2.3549 - acc: 0.1015 - val_loss: 2.3585 - val_acc: 0.1000\n",
            "Epoch 27/40\n",
            "50000/50000 [==============================] - 12s 231us/step - loss: 2.3580 - acc: 0.0982 - val_loss: 2.3926 - val_acc: 0.1000\n",
            "Epoch 28/40\n",
            "50000/50000 [==============================] - 12s 243us/step - loss: 2.3553 - acc: 0.0979 - val_loss: 2.3783 - val_acc: 0.1000\n",
            "Epoch 29/40\n",
            "50000/50000 [==============================] - 11s 229us/step - loss: 2.3554 - acc: 0.0985 - val_loss: 2.3888 - val_acc: 0.1000\n",
            "Epoch 30/40\n",
            "50000/50000 [==============================] - 11s 228us/step - loss: 2.3570 - acc: 0.0990 - val_loss: 2.3621 - val_acc: 0.1000\n",
            "Epoch 31/40\n",
            "50000/50000 [==============================] - 12s 232us/step - loss: 2.3544 - acc: 0.1021 - val_loss: 2.3776 - val_acc: 0.1000\n",
            "Epoch 32/40\n",
            "50000/50000 [==============================] - 11s 228us/step - loss: 2.3544 - acc: 0.1013 - val_loss: 2.3464 - val_acc: 0.1000\n",
            "Epoch 33/40\n",
            "50000/50000 [==============================] - 11s 229us/step - loss: 2.3573 - acc: 0.0997 - val_loss: 2.3544 - val_acc: 0.1000\n",
            "Epoch 34/40\n",
            "50000/50000 [==============================] - 12s 233us/step - loss: 2.3573 - acc: 0.0997 - val_loss: 2.3509 - val_acc: 0.1000\n",
            "Epoch 35/40\n",
            "50000/50000 [==============================] - 12s 235us/step - loss: 2.3567 - acc: 0.1012 - val_loss: 2.3707 - val_acc: 0.1000\n",
            "Epoch 36/40\n",
            "50000/50000 [==============================] - 11s 228us/step - loss: 2.3576 - acc: 0.0988 - val_loss: 2.4077 - val_acc: 0.1000\n",
            "Epoch 37/40\n",
            "50000/50000 [==============================] - 12s 231us/step - loss: 2.3565 - acc: 0.0998 - val_loss: 2.3378 - val_acc: 0.1000\n",
            "Epoch 38/40\n",
            "50000/50000 [==============================] - 12s 235us/step - loss: 2.3572 - acc: 0.0998 - val_loss: 2.3563 - val_acc: 0.1000\n",
            "Epoch 39/40\n",
            "50000/50000 [==============================] - 12s 233us/step - loss: 2.3583 - acc: 0.0975 - val_loss: 2.3845 - val_acc: 0.1000\n",
            "Epoch 40/40\n",
            "50000/50000 [==============================] - 11s 227us/step - loss: 2.3527 - acc: 0.1019 - val_loss: 2.3997 - val_acc: 0.1000\n",
            "10000/10000 [==============================] - 2s 185us/step\n"
          ],
          "name": "stdout"
        }
      ]
    },
    {
      "metadata": {
        "colab_type": "code",
        "outputId": "c4facef8-7907-4b60-cefa-554d640b626f",
        "id": "yGU6aUWLUShF",
        "colab": {
          "base_uri": "https://localhost:8080/",
          "height": 52
        }
      },
      "cell_type": "code",
      "source": [
        "  print('Test loss:', score1[0])\n",
        "  print('Test accuracy:', score1[1])"
      ],
      "execution_count": 0,
      "outputs": [
        {
          "output_type": "stream",
          "text": [
            "Test loss: 2.3997065254211427\n",
            "Test accuracy: 0.1\n"
          ],
          "name": "stdout"
        }
      ]
    },
    {
      "metadata": {
        "colab_type": "code",
        "outputId": "ebd93f59-7760-42ac-c14a-a4448629b5cc",
        "id": "z7ARZylQUShU",
        "colab": {
          "base_uri": "https://localhost:8080/",
          "height": 294
        }
      },
      "cell_type": "code",
      "source": [
        "# summarize history for accuracy\n",
        "plt.plot(history1.history['acc'])\n",
        "plt.plot(history1.history['val_acc'])\n",
        "plt.title('model accuracy')\n",
        "plt.ylabel('accuracy')\n",
        "plt.xlabel('epoch')\n",
        "plt.legend(['train', 'test'], loc='upper left')\n",
        "plt.show()"
      ],
      "execution_count": 0,
      "outputs": [
        {
          "output_type": "display_data",
          "data": {
            "image/png": "[encoded data removed]",
            "text/plain": [
              "<Figure size 432x288 with 1 Axes>"
            ]
          },
          "metadata": {
            "tags": []
          }
        }
      ]
    },
    {
      "metadata": {
        "colab_type": "code",
        "outputId": "b62bba58-7ab1-4ac1-b0b8-e4bf886dd47a",
        "id": "kuRQhfLxUShj",
        "colab": {
          "base_uri": "https://localhost:8080/",
          "height": 294
        }
      },
      "cell_type": "code",
      "source": [
        "# summarize history for accuracy\n",
        "plt.plot(history1.history['loss'])\n",
        "plt.plot(history1.history['val_loss'])\n",
        "plt.title('model loss')\n",
        "plt.ylabel('accuracy')\n",
        "plt.xlabel('epoch')\n",
        "plt.legend(['train', 'test'], loc='upper left')\n",
        "plt.show()"
      ],
      "execution_count": 0,
      "outputs": [
        {
          "output_type": "display_data",
          "data": {
            "image/png": "[encoded data removed]",
            "text/plain": [
              "<Figure size 432x288 with 1 Axes>"
            ]
          },
          "metadata": {
            "tags": []
          }
        }
      ]
    },
    {
      "metadata": {
        "colab_type": "text",
        "id": "qaCebAz3XsLf"
      },
      "cell_type": "markdown",
      "source": [
        "#Model three parameters\n",
        "\n",
        "It rather gave an accuracy of 0.1 thus having to change my hyperparameters I used Relu as my output activation function\n",
        "\n",
        "1.   Hidden layers = 3\n",
        "2.   hidden_num_units = 2048, 1024, 512\n",
        "3.   output_num_units = 10\n",
        "4.   epochs = 200\n",
        "5.   batch_size = 128\n",
        "6.   output activation_function = 'Relu'\n",
        "7.   layer activation_function = \"tanh\"\n"
      ]
    },
    {
      "metadata": {
        "colab_type": "code",
        "id": "52o6hJFsXsLo",
        "colab": {}
      },
      "cell_type": "code",
      "source": [
        "\n",
        "\n",
        "model = Sequential()\n",
        "model.add(Flatten(input_shape=(32, 32, 3)))\n",
        "model.add(Dense(2048, activation='tanh'))\n",
        "model.add(Dropout(0.2))\n",
        "\n",
        "model.add(Dense(1024, activation='tanh'))\n",
        "model.add(Dropout(0.2))\n",
        "\n",
        "model.add(Dense(512,activation='tanh'))\n",
        "model.add(Dropout(0.2))\n",
        "\n",
        "model.add(Dense(10, activation='relu'))\n",
        "\n",
        "\n",
        "model.compile(optimizer='rmsprop',\n",
        "                loss='categorical_crossentropy',\n",
        "                metrics=['accuracy'])\n",
        "\n"
      ],
      "execution_count": 0,
      "outputs": []
    },
    {
      "metadata": {
        "colab_type": "code",
        "outputId": "c4c2c05e-1fc3-4d29-d6c4-5df4a00b8158",
        "id": "oqK4ABbTXsLx",
        "colab": {
          "base_uri": "https://localhost:8080/",
          "height": 10719
        }
      },
      "cell_type": "code",
      "source": [
        "#def fitTheModel():\n",
        "  \n",
        "  history3 = model.fit(X_train, train_labels, epochs=300, batch_size=128, validation_data=(X_test,test_labels))\n",
        "  \n",
        "  score3 = model.evaluate(X_test,test_labels)\n",
        "  \n",
        "  "
      ],
      "execution_count": 7,
      "outputs": [
        {
          "output_type": "stream",
          "text": [
            "Train on 50000 samples, validate on 10000 samples\n",
            "Epoch 1/300\n",
            "50000/50000 [==============================] - 8s 159us/step - loss: 2.2686 - acc: 0.1450 - val_loss: 2.2021 - val_acc: 0.1716\n",
            "Epoch 2/300\n",
            "50000/50000 [==============================] - 7s 133us/step - loss: 2.1862 - acc: 0.1747 - val_loss: 2.0789 - val_acc: 0.1834\n",
            "Epoch 3/300\n",
            "50000/50000 [==============================] - 7s 135us/step - loss: 2.1594 - acc: 0.1890 - val_loss: 2.1090 - val_acc: 0.1973\n",
            "Epoch 4/300\n",
            "50000/50000 [==============================] - 7s 134us/step - loss: 2.1326 - acc: 0.2157 - val_loss: 2.0954 - val_acc: 0.2175\n",
            "Epoch 5/300\n",
            "50000/50000 [==============================] - 7s 133us/step - loss: 2.1134 - acc: 0.2363 - val_loss: 2.2381 - val_acc: 0.2296\n",
            "Epoch 6/300\n",
            "50000/50000 [==============================] - 7s 135us/step - loss: 2.0890 - acc: 0.2445 - val_loss: 2.1372 - val_acc: 0.2323\n",
            "Epoch 7/300\n",
            "50000/50000 [==============================] - 7s 138us/step - loss: 2.0882 - acc: 0.2533 - val_loss: 2.0300 - val_acc: 0.2685\n",
            "Epoch 8/300\n",
            "50000/50000 [==============================] - 7s 136us/step - loss: 2.0899 - acc: 0.2566 - val_loss: 1.9720 - val_acc: 0.2748\n",
            "Epoch 9/300\n",
            "50000/50000 [==============================] - 7s 132us/step - loss: 2.0618 - acc: 0.2610 - val_loss: 1.9629 - val_acc: 0.2699\n",
            "Epoch 10/300\n",
            "50000/50000 [==============================] - 7s 134us/step - loss: 2.0567 - acc: 0.2690 - val_loss: 1.9575 - val_acc: 0.2742\n",
            "Epoch 11/300\n",
            "50000/50000 [==============================] - 7s 134us/step - loss: 2.0479 - acc: 0.2719 - val_loss: 1.9694 - val_acc: 0.2683\n",
            "Epoch 12/300\n",
            "50000/50000 [==============================] - 7s 135us/step - loss: 2.0530 - acc: 0.2735 - val_loss: 2.0219 - val_acc: 0.2602\n",
            "Epoch 13/300\n",
            "50000/50000 [==============================] - 7s 133us/step - loss: 2.0347 - acc: 0.2731 - val_loss: 1.9427 - val_acc: 0.2799\n",
            "Epoch 14/300\n",
            "50000/50000 [==============================] - 7s 133us/step - loss: 2.0164 - acc: 0.2799 - val_loss: 1.9873 - val_acc: 0.3034\n",
            "Epoch 15/300\n",
            "50000/50000 [==============================] - 7s 138us/step - loss: 2.0136 - acc: 0.2772 - val_loss: 1.9770 - val_acc: 0.3021\n",
            "Epoch 16/300\n",
            "50000/50000 [==============================] - 7s 137us/step - loss: 2.0167 - acc: 0.2827 - val_loss: 1.9784 - val_acc: 0.2943\n",
            "Epoch 17/300\n",
            "50000/50000 [==============================] - 7s 136us/step - loss: 2.0033 - acc: 0.2843 - val_loss: 2.0366 - val_acc: 0.2934\n",
            "Epoch 18/300\n",
            "50000/50000 [==============================] - 7s 133us/step - loss: 2.0047 - acc: 0.2881 - val_loss: 1.9376 - val_acc: 0.2918\n",
            "Epoch 19/300\n",
            "50000/50000 [==============================] - 7s 133us/step - loss: 2.0085 - acc: 0.2876 - val_loss: 2.0451 - val_acc: 0.2954\n",
            "Epoch 20/300\n",
            "50000/50000 [==============================] - 7s 134us/step - loss: 1.9961 - acc: 0.2859 - val_loss: 1.9149 - val_acc: 0.3004\n",
            "Epoch 21/300\n",
            "50000/50000 [==============================] - 7s 134us/step - loss: 2.0041 - acc: 0.2951 - val_loss: 1.8983 - val_acc: 0.2968\n",
            "Epoch 22/300\n",
            "50000/50000 [==============================] - 7s 133us/step - loss: 1.9980 - acc: 0.2930 - val_loss: 1.9696 - val_acc: 0.2976\n",
            "Epoch 23/300\n",
            "50000/50000 [==============================] - 7s 134us/step - loss: 2.0014 - acc: 0.2975 - val_loss: 1.9025 - val_acc: 0.3089\n",
            "Epoch 24/300\n",
            "50000/50000 [==============================] - 7s 134us/step - loss: 1.9838 - acc: 0.2996 - val_loss: 1.9942 - val_acc: 0.3102\n",
            "Epoch 25/300\n",
            "50000/50000 [==============================] - 7s 133us/step - loss: 1.9965 - acc: 0.2968 - val_loss: 1.9351 - val_acc: 0.3089\n",
            "Epoch 26/300\n",
            "50000/50000 [==============================] - 7s 135us/step - loss: 1.9859 - acc: 0.2961 - val_loss: 1.9448 - val_acc: 0.3107\n",
            "Epoch 27/300\n",
            "50000/50000 [==============================] - 7s 135us/step - loss: 1.9854 - acc: 0.2963 - val_loss: 1.9336 - val_acc: 0.2913\n",
            "Epoch 28/300\n",
            "50000/50000 [==============================] - 7s 133us/step - loss: 1.9744 - acc: 0.3037 - val_loss: 1.9187 - val_acc: 0.3018\n",
            "Epoch 29/300\n",
            "50000/50000 [==============================] - 7s 133us/step - loss: 1.9736 - acc: 0.3013 - val_loss: 1.9846 - val_acc: 0.3106\n",
            "Epoch 30/300\n",
            "50000/50000 [==============================] - 7s 133us/step - loss: 1.9827 - acc: 0.3033 - val_loss: 1.9305 - val_acc: 0.3025\n",
            "Epoch 31/300\n",
            "50000/50000 [==============================] - 7s 132us/step - loss: 2.0021 - acc: 0.3046 - val_loss: 1.9302 - val_acc: 0.3198\n",
            "Epoch 32/300\n",
            "50000/50000 [==============================] - 7s 133us/step - loss: 1.9921 - acc: 0.3041 - val_loss: 1.9392 - val_acc: 0.2836\n",
            "Epoch 33/300\n",
            "50000/50000 [==============================] - 7s 135us/step - loss: 1.9688 - acc: 0.3069 - val_loss: 1.9016 - val_acc: 0.3178\n",
            "Epoch 34/300\n",
            "50000/50000 [==============================] - 7s 135us/step - loss: 1.9741 - acc: 0.3035 - val_loss: 1.9265 - val_acc: 0.3202\n",
            "Epoch 35/300\n",
            "50000/50000 [==============================] - 7s 133us/step - loss: 1.9682 - acc: 0.3028 - val_loss: 1.9140 - val_acc: 0.3246\n",
            "Epoch 36/300\n",
            "50000/50000 [==============================] - 7s 132us/step - loss: 1.9684 - acc: 0.3085 - val_loss: 1.9442 - val_acc: 0.3205\n",
            "Epoch 37/300\n",
            "50000/50000 [==============================] - 7s 134us/step - loss: 1.9710 - acc: 0.3087 - val_loss: 1.8642 - val_acc: 0.3239\n",
            "Epoch 38/300\n",
            "50000/50000 [==============================] - 7s 133us/step - loss: 1.9542 - acc: 0.3081 - val_loss: 1.9743 - val_acc: 0.3280\n",
            "Epoch 39/300\n",
            "50000/50000 [==============================] - 7s 133us/step - loss: 1.9514 - acc: 0.3091 - val_loss: 1.9452 - val_acc: 0.3149\n",
            "Epoch 40/300\n",
            "50000/50000 [==============================] - 7s 134us/step - loss: 1.9816 - acc: 0.3057 - val_loss: 1.9147 - val_acc: 0.3228\n",
            "Epoch 41/300\n",
            "50000/50000 [==============================] - 7s 132us/step - loss: 1.9708 - acc: 0.3075 - val_loss: 1.8879 - val_acc: 0.3229\n",
            "Epoch 42/300\n",
            "50000/50000 [==============================] - 7s 133us/step - loss: 1.9640 - acc: 0.3080 - val_loss: 1.9440 - val_acc: 0.3269\n",
            "Epoch 43/300\n",
            "50000/50000 [==============================] - 7s 134us/step - loss: 1.9649 - acc: 0.3113 - val_loss: 1.9252 - val_acc: 0.3283\n",
            "Epoch 44/300\n",
            "50000/50000 [==============================] - 7s 134us/step - loss: 1.9647 - acc: 0.3085 - val_loss: 1.9067 - val_acc: 0.3231\n",
            "Epoch 45/300\n",
            "50000/50000 [==============================] - 7s 133us/step - loss: 1.9918 - acc: 0.3127 - val_loss: 1.8727 - val_acc: 0.3292\n",
            "Epoch 46/300\n",
            "50000/50000 [==============================] - 7s 133us/step - loss: 1.9744 - acc: 0.3104 - val_loss: 1.9244 - val_acc: 0.3128\n",
            "Epoch 47/300\n",
            "50000/50000 [==============================] - 7s 135us/step - loss: 1.9771 - acc: 0.3153 - val_loss: 2.0031 - val_acc: 0.3096\n",
            "Epoch 48/300\n",
            "50000/50000 [==============================] - 7s 134us/step - loss: 1.9678 - acc: 0.3103 - val_loss: 1.9195 - val_acc: 0.3267\n",
            "Epoch 49/300\n",
            "50000/50000 [==============================] - 7s 134us/step - loss: 1.9658 - acc: 0.3124 - val_loss: 1.9755 - val_acc: 0.3186\n",
            "Epoch 50/300\n",
            "50000/50000 [==============================] - 7s 133us/step - loss: 1.9625 - acc: 0.3158 - val_loss: 1.8838 - val_acc: 0.3086\n",
            "Epoch 51/300\n",
            "50000/50000 [==============================] - 7s 134us/step - loss: 1.9636 - acc: 0.3127 - val_loss: 1.9062 - val_acc: 0.3273\n",
            "Epoch 52/300\n",
            "50000/50000 [==============================] - 7s 135us/step - loss: 1.9729 - acc: 0.3127 - val_loss: 1.9579 - val_acc: 0.3105\n",
            "Epoch 53/300\n",
            "50000/50000 [==============================] - 7s 133us/step - loss: 1.9600 - acc: 0.3174 - val_loss: 1.8558 - val_acc: 0.3320\n",
            "Epoch 54/300\n",
            "50000/50000 [==============================] - 7s 133us/step - loss: 1.9605 - acc: 0.3154 - val_loss: 1.9060 - val_acc: 0.3019\n",
            "Epoch 55/300\n",
            "50000/50000 [==============================] - 7s 133us/step - loss: 1.9571 - acc: 0.3150 - val_loss: 1.8781 - val_acc: 0.3297\n",
            "Epoch 56/300\n",
            "50000/50000 [==============================] - 7s 134us/step - loss: 1.9601 - acc: 0.3170 - val_loss: 1.9526 - val_acc: 0.3324\n",
            "Epoch 57/300\n",
            "50000/50000 [==============================] - 7s 135us/step - loss: 1.9678 - acc: 0.3202 - val_loss: 2.1099 - val_acc: 0.3268\n",
            "Epoch 58/300\n",
            "50000/50000 [==============================] - 7s 135us/step - loss: 1.9533 - acc: 0.3159 - val_loss: 1.9208 - val_acc: 0.3224\n",
            "Epoch 59/300\n",
            "50000/50000 [==============================] - 7s 133us/step - loss: 1.9521 - acc: 0.3140 - val_loss: 1.9092 - val_acc: 0.3194\n",
            "Epoch 60/300\n",
            "50000/50000 [==============================] - 7s 133us/step - loss: 1.9472 - acc: 0.3191 - val_loss: 1.8721 - val_acc: 0.3226\n",
            "Epoch 61/300\n",
            "50000/50000 [==============================] - 7s 133us/step - loss: 1.9429 - acc: 0.3190 - val_loss: 1.8839 - val_acc: 0.3414\n",
            "Epoch 62/300\n",
            "50000/50000 [==============================] - 7s 134us/step - loss: 1.9701 - acc: 0.3175 - val_loss: 1.9054 - val_acc: 0.3220\n",
            "Epoch 63/300\n",
            "50000/50000 [==============================] - 7s 134us/step - loss: 1.9561 - acc: 0.3166 - val_loss: 1.9250 - val_acc: 0.3025\n",
            "Epoch 64/300\n",
            "50000/50000 [==============================] - 7s 133us/step - loss: 1.9553 - acc: 0.3170 - val_loss: 1.9567 - val_acc: 0.3331\n",
            "Epoch 65/300\n",
            "50000/50000 [==============================] - 7s 133us/step - loss: 1.9527 - acc: 0.3193 - val_loss: 1.8450 - val_acc: 0.3305\n",
            "Epoch 66/300\n",
            "50000/50000 [==============================] - 7s 133us/step - loss: 1.9576 - acc: 0.3196 - val_loss: 1.9460 - val_acc: 0.3265\n",
            "Epoch 67/300\n",
            "50000/50000 [==============================] - 7s 133us/step - loss: 1.9382 - acc: 0.3192 - val_loss: 1.8462 - val_acc: 0.3405\n",
            "Epoch 68/300\n",
            "50000/50000 [==============================] - 7s 134us/step - loss: 1.9581 - acc: 0.3165 - val_loss: 2.0780 - val_acc: 0.3218\n",
            "Epoch 69/300\n",
            "50000/50000 [==============================] - 7s 134us/step - loss: 1.9667 - acc: 0.3170 - val_loss: 1.8656 - val_acc: 0.3371\n",
            "Epoch 70/300\n",
            "50000/50000 [==============================] - 7s 133us/step - loss: 1.9341 - acc: 0.3177 - val_loss: 1.8991 - val_acc: 0.3244\n",
            "Epoch 71/300\n",
            "50000/50000 [==============================] - 7s 134us/step - loss: 1.9627 - acc: 0.3202 - val_loss: 1.9624 - val_acc: 0.3359\n",
            "Epoch 72/300\n",
            "50000/50000 [==============================] - 7s 133us/step - loss: 1.9587 - acc: 0.3187 - val_loss: 1.8707 - val_acc: 0.3272\n",
            "Epoch 73/300\n",
            "50000/50000 [==============================] - 7s 133us/step - loss: 1.9584 - acc: 0.3188 - val_loss: 1.8558 - val_acc: 0.3312\n",
            "Epoch 74/300\n",
            "50000/50000 [==============================] - 7s 133us/step - loss: 1.9562 - acc: 0.3203 - val_loss: 1.8665 - val_acc: 0.3199\n",
            "Epoch 75/300\n",
            "50000/50000 [==============================] - 7s 134us/step - loss: 1.9458 - acc: 0.3227 - val_loss: 1.8955 - val_acc: 0.3269\n",
            "Epoch 76/300\n",
            "50000/50000 [==============================] - 7s 133us/step - loss: 1.9475 - acc: 0.3236 - val_loss: 1.8592 - val_acc: 0.3400\n",
            "Epoch 77/300\n",
            "50000/50000 [==============================] - 7s 133us/step - loss: 1.9452 - acc: 0.3200 - val_loss: 1.8428 - val_acc: 0.3311\n",
            "Epoch 78/300\n",
            "50000/50000 [==============================] - 7s 134us/step - loss: 1.9423 - acc: 0.3215 - val_loss: 1.8735 - val_acc: 0.3439\n",
            "Epoch 79/300\n",
            "50000/50000 [==============================] - 7s 134us/step - loss: 1.9470 - acc: 0.3215 - val_loss: 1.9244 - val_acc: 0.3409\n",
            "Epoch 80/300\n",
            "50000/50000 [==============================] - 7s 134us/step - loss: 1.9400 - acc: 0.3214 - val_loss: 1.8289 - val_acc: 0.3362\n",
            "Epoch 81/300\n",
            "50000/50000 [==============================] - 7s 133us/step - loss: 1.9443 - acc: 0.3251 - val_loss: 1.8672 - val_acc: 0.3444\n",
            "Epoch 82/300\n",
            "50000/50000 [==============================] - 7s 134us/step - loss: 1.9362 - acc: 0.3212 - val_loss: 1.8938 - val_acc: 0.3308\n",
            "Epoch 83/300\n",
            "50000/50000 [==============================] - 7s 135us/step - loss: 1.9518 - acc: 0.3197 - val_loss: 1.8692 - val_acc: 0.3406\n",
            "Epoch 84/300\n",
            "50000/50000 [==============================] - 7s 133us/step - loss: 1.9519 - acc: 0.3198 - val_loss: 1.8820 - val_acc: 0.3281\n",
            "Epoch 85/300\n",
            "50000/50000 [==============================] - 7s 133us/step - loss: 1.9297 - acc: 0.3217 - val_loss: 1.8816 - val_acc: 0.3279\n",
            "Epoch 86/300\n",
            "50000/50000 [==============================] - 7s 133us/step - loss: 1.9362 - acc: 0.3270 - val_loss: 1.8307 - val_acc: 0.3476\n",
            "Epoch 87/300\n",
            "50000/50000 [==============================] - 7s 132us/step - loss: 1.9469 - acc: 0.3242 - val_loss: 1.8396 - val_acc: 0.3418\n",
            "Epoch 88/300\n",
            "50000/50000 [==============================] - 7s 134us/step - loss: 1.9559 - acc: 0.3200 - val_loss: 1.8971 - val_acc: 0.3233\n",
            "Epoch 89/300\n",
            "50000/50000 [==============================] - 7s 133us/step - loss: 1.9512 - acc: 0.3208 - val_loss: 1.8411 - val_acc: 0.3173\n",
            "Epoch 90/300\n",
            "50000/50000 [==============================] - 7s 134us/step - loss: 1.9452 - acc: 0.3244 - val_loss: 1.8244 - val_acc: 0.3382\n",
            "Epoch 91/300\n",
            "50000/50000 [==============================] - 7s 133us/step - loss: 1.9334 - acc: 0.3247 - val_loss: 1.9085 - val_acc: 0.3437\n",
            "Epoch 92/300\n",
            "50000/50000 [==============================] - 7s 133us/step - loss: 1.9430 - acc: 0.3275 - val_loss: 1.9725 - val_acc: 0.3183\n",
            "Epoch 93/300\n",
            "50000/50000 [==============================] - 7s 133us/step - loss: 1.9224 - acc: 0.3231 - val_loss: 1.8263 - val_acc: 0.3373\n",
            "Epoch 94/300\n",
            "50000/50000 [==============================] - 7s 133us/step - loss: 1.9383 - acc: 0.3241 - val_loss: 1.8788 - val_acc: 0.3321\n",
            "Epoch 95/300\n",
            "50000/50000 [==============================] - 7s 134us/step - loss: 1.9389 - acc: 0.3218 - val_loss: 1.8678 - val_acc: 0.3468\n",
            "Epoch 96/300\n",
            "50000/50000 [==============================] - 7s 133us/step - loss: 1.9355 - acc: 0.3302 - val_loss: 1.8433 - val_acc: 0.3286\n",
            "Epoch 97/300\n",
            "50000/50000 [==============================] - 7s 134us/step - loss: 1.9344 - acc: 0.3228 - val_loss: 1.8528 - val_acc: 0.3248\n",
            "Epoch 98/300\n",
            "50000/50000 [==============================] - 7s 134us/step - loss: 1.9282 - acc: 0.3247 - val_loss: 1.8577 - val_acc: 0.3273\n",
            "Epoch 99/300\n",
            "50000/50000 [==============================] - 7s 133us/step - loss: 1.9353 - acc: 0.3278 - val_loss: 1.8641 - val_acc: 0.3179\n",
            "Epoch 100/300\n",
            "50000/50000 [==============================] - 7s 134us/step - loss: 1.9327 - acc: 0.3235 - val_loss: 1.8871 - val_acc: 0.3111\n",
            "Epoch 101/300\n",
            "50000/50000 [==============================] - 7s 132us/step - loss: 1.9370 - acc: 0.3246 - val_loss: 1.8362 - val_acc: 0.3394\n",
            "Epoch 102/300\n",
            "50000/50000 [==============================] - 7s 134us/step - loss: 1.9274 - acc: 0.3269 - val_loss: 1.8713 - val_acc: 0.3303\n",
            "Epoch 103/300\n",
            "50000/50000 [==============================] - 7s 132us/step - loss: 1.9272 - acc: 0.3277 - val_loss: 1.8644 - val_acc: 0.3389\n",
            "Epoch 104/300\n",
            "50000/50000 [==============================] - 7s 133us/step - loss: 1.9392 - acc: 0.3269 - val_loss: 1.8251 - val_acc: 0.3442\n",
            "Epoch 105/300\n",
            "50000/50000 [==============================] - 7s 133us/step - loss: 1.9257 - acc: 0.3270 - val_loss: 1.8735 - val_acc: 0.3366\n",
            "Epoch 106/300\n",
            "50000/50000 [==============================] - 7s 133us/step - loss: 1.9398 - acc: 0.3254 - val_loss: 1.8702 - val_acc: 0.3363\n",
            "Epoch 107/300\n",
            "50000/50000 [==============================] - 7s 134us/step - loss: 1.9498 - acc: 0.3235 - val_loss: 1.8354 - val_acc: 0.3292\n",
            "Epoch 108/300\n",
            "50000/50000 [==============================] - 7s 133us/step - loss: 1.9539 - acc: 0.3292 - val_loss: 1.8371 - val_acc: 0.3439\n",
            "Epoch 109/300\n",
            "50000/50000 [==============================] - 7s 134us/step - loss: 1.9402 - acc: 0.3290 - val_loss: 1.8979 - val_acc: 0.3315\n",
            "Epoch 110/300\n",
            "50000/50000 [==============================] - 7s 133us/step - loss: 1.9217 - acc: 0.3285 - val_loss: 1.8332 - val_acc: 0.3429\n",
            "Epoch 111/300\n",
            "50000/50000 [==============================] - 7s 135us/step - loss: 1.9362 - acc: 0.3286 - val_loss: 1.8381 - val_acc: 0.3378\n",
            "Epoch 112/300\n",
            "50000/50000 [==============================] - 7s 133us/step - loss: 1.9474 - acc: 0.3324 - val_loss: 1.8606 - val_acc: 0.3387\n",
            "Epoch 113/300\n",
            "50000/50000 [==============================] - 7s 134us/step - loss: 1.9219 - acc: 0.3290 - val_loss: 1.8074 - val_acc: 0.3424\n",
            "Epoch 114/300\n",
            "50000/50000 [==============================] - 7s 136us/step - loss: 1.9438 - acc: 0.3245 - val_loss: 1.8641 - val_acc: 0.3436\n",
            "Epoch 115/300\n",
            "50000/50000 [==============================] - 7s 133us/step - loss: 1.9323 - acc: 0.3268 - val_loss: 1.8783 - val_acc: 0.3173\n",
            "Epoch 116/300\n",
            "50000/50000 [==============================] - 7s 133us/step - loss: 1.9444 - acc: 0.3267 - val_loss: 1.8921 - val_acc: 0.3418\n",
            "Epoch 117/300\n",
            "50000/50000 [==============================] - 7s 133us/step - loss: 1.9136 - acc: 0.3288 - val_loss: 1.8893 - val_acc: 0.3256\n",
            "Epoch 118/300\n",
            "50000/50000 [==============================] - 7s 133us/step - loss: 1.9373 - acc: 0.3304 - val_loss: 1.8696 - val_acc: 0.3275\n",
            "Epoch 119/300\n",
            "50000/50000 [==============================] - 7s 133us/step - loss: 1.9354 - acc: 0.3317 - val_loss: 1.8471 - val_acc: 0.3496\n",
            "Epoch 120/300\n",
            "50000/50000 [==============================] - 7s 133us/step - loss: 1.9378 - acc: 0.3299 - val_loss: 1.8809 - val_acc: 0.3291\n",
            "Epoch 121/300\n",
            "50000/50000 [==============================] - 7s 133us/step - loss: 1.9334 - acc: 0.3313 - val_loss: 1.9103 - val_acc: 0.3395\n",
            "Epoch 122/300\n",
            "50000/50000 [==============================] - 7s 133us/step - loss: 1.9276 - acc: 0.3301 - val_loss: 1.8333 - val_acc: 0.3513\n",
            "Epoch 123/300\n",
            "50000/50000 [==============================] - 7s 133us/step - loss: 1.9418 - acc: 0.3272 - val_loss: 1.8598 - val_acc: 0.3492\n",
            "Epoch 124/300\n",
            "50000/50000 [==============================] - 7s 133us/step - loss: 1.9258 - acc: 0.3287 - val_loss: 1.8593 - val_acc: 0.3329\n",
            "Epoch 125/300\n",
            "50000/50000 [==============================] - 7s 133us/step - loss: 1.9365 - acc: 0.3269 - val_loss: 1.9109 - val_acc: 0.3288\n",
            "Epoch 126/300\n",
            "50000/50000 [==============================] - 7s 133us/step - loss: 1.9457 - acc: 0.3303 - val_loss: 1.8266 - val_acc: 0.3386\n",
            "Epoch 127/300\n",
            "50000/50000 [==============================] - 7s 133us/step - loss: 1.9242 - acc: 0.3291 - val_loss: 1.8584 - val_acc: 0.3382\n",
            "Epoch 128/300\n",
            "50000/50000 [==============================] - 7s 133us/step - loss: 1.9403 - acc: 0.3234 - val_loss: 1.8224 - val_acc: 0.3523\n",
            "Epoch 129/300\n",
            "50000/50000 [==============================] - 7s 133us/step - loss: 1.9416 - acc: 0.3256 - val_loss: 1.8373 - val_acc: 0.3406\n",
            "Epoch 130/300\n",
            "50000/50000 [==============================] - 7s 133us/step - loss: 1.9635 - acc: 0.3283 - val_loss: 1.8678 - val_acc: 0.3365\n",
            "Epoch 131/300\n",
            "50000/50000 [==============================] - 7s 133us/step - loss: 1.9316 - acc: 0.3287 - val_loss: 1.8465 - val_acc: 0.3445\n",
            "Epoch 132/300\n",
            "50000/50000 [==============================] - 7s 133us/step - loss: 1.9410 - acc: 0.3254 - val_loss: 1.8408 - val_acc: 0.3330\n",
            "Epoch 133/300\n",
            "50000/50000 [==============================] - 7s 133us/step - loss: 1.9374 - acc: 0.3292 - val_loss: 1.8330 - val_acc: 0.3262\n",
            "Epoch 134/300\n",
            "50000/50000 [==============================] - 7s 133us/step - loss: 1.9321 - acc: 0.3268 - val_loss: 1.8791 - val_acc: 0.3359\n",
            "Epoch 135/300\n",
            "50000/50000 [==============================] - 7s 135us/step - loss: 1.9492 - acc: 0.3225 - val_loss: 1.8378 - val_acc: 0.3346\n",
            "Epoch 136/300\n",
            "50000/50000 [==============================] - 7s 134us/step - loss: 1.9450 - acc: 0.3268 - val_loss: 1.8532 - val_acc: 0.3333\n",
            "Epoch 137/300\n",
            "50000/50000 [==============================] - 7s 133us/step - loss: 1.9430 - acc: 0.3264 - val_loss: 1.8788 - val_acc: 0.3370\n",
            "Epoch 138/300\n",
            "50000/50000 [==============================] - 7s 134us/step - loss: 1.9492 - acc: 0.3213 - val_loss: 1.8350 - val_acc: 0.3357\n",
            "Epoch 139/300\n",
            "50000/50000 [==============================] - 7s 133us/step - loss: 1.9279 - acc: 0.3301 - val_loss: 1.8591 - val_acc: 0.3255\n",
            "Epoch 140/300\n",
            "50000/50000 [==============================] - 7s 135us/step - loss: 1.9296 - acc: 0.3298 - val_loss: 1.8324 - val_acc: 0.3420\n",
            "Epoch 141/300\n",
            "50000/50000 [==============================] - 7s 134us/step - loss: 1.9401 - acc: 0.3275 - val_loss: 1.8185 - val_acc: 0.3442\n",
            "Epoch 142/300\n",
            "50000/50000 [==============================] - 7s 134us/step - loss: 1.9448 - acc: 0.3287 - val_loss: 1.8376 - val_acc: 0.3420\n",
            "Epoch 143/300\n",
            "50000/50000 [==============================] - 7s 133us/step - loss: 1.9344 - acc: 0.3261 - val_loss: 1.8720 - val_acc: 0.3336\n",
            "Epoch 144/300\n",
            "50000/50000 [==============================] - 7s 133us/step - loss: 1.9520 - acc: 0.3255 - val_loss: 1.8230 - val_acc: 0.3253\n",
            "Epoch 145/300\n",
            "50000/50000 [==============================] - 7s 134us/step - loss: 1.9386 - acc: 0.3278 - val_loss: 1.8837 - val_acc: 0.3362\n",
            "Epoch 146/300\n",
            "50000/50000 [==============================] - 7s 135us/step - loss: 1.9504 - acc: 0.3284 - val_loss: 1.8577 - val_acc: 0.3509\n",
            "Epoch 147/300\n",
            "50000/50000 [==============================] - 7s 135us/step - loss: 1.9635 - acc: 0.3310 - val_loss: 1.8899 - val_acc: 0.3393\n",
            "Epoch 148/300\n",
            "50000/50000 [==============================] - 7s 133us/step - loss: 1.9374 - acc: 0.3292 - val_loss: 1.9020 - val_acc: 0.3396\n",
            "Epoch 149/300\n",
            "50000/50000 [==============================] - 7s 133us/step - loss: 1.9501 - acc: 0.3235 - val_loss: 1.8510 - val_acc: 0.3424\n",
            "Epoch 150/300\n",
            "50000/50000 [==============================] - 7s 134us/step - loss: 1.9335 - acc: 0.3247 - val_loss: 1.8348 - val_acc: 0.3502\n",
            "Epoch 151/300\n",
            "50000/50000 [==============================] - 7s 134us/step - loss: 1.9472 - acc: 0.3279 - val_loss: 1.8241 - val_acc: 0.3473\n",
            "Epoch 152/300\n",
            "50000/50000 [==============================] - 7s 133us/step - loss: 1.9479 - acc: 0.3299 - val_loss: 1.8423 - val_acc: 0.3401\n",
            "Epoch 153/300\n",
            "50000/50000 [==============================] - 7s 133us/step - loss: 1.9484 - acc: 0.3315 - val_loss: 1.8704 - val_acc: 0.3371\n",
            "Epoch 154/300\n",
            "50000/50000 [==============================] - 7s 133us/step - loss: 1.9386 - acc: 0.3242 - val_loss: 1.8208 - val_acc: 0.3417\n",
            "Epoch 155/300\n",
            "50000/50000 [==============================] - 7s 133us/step - loss: 1.9357 - acc: 0.3304 - val_loss: 1.9615 - val_acc: 0.3242\n",
            "Epoch 156/300\n",
            "50000/50000 [==============================] - 7s 134us/step - loss: 1.9283 - acc: 0.3304 - val_loss: 1.8653 - val_acc: 0.3347\n",
            "Epoch 157/300\n",
            "50000/50000 [==============================] - 7s 132us/step - loss: 1.9388 - acc: 0.3261 - val_loss: 1.8402 - val_acc: 0.3389\n",
            "Epoch 158/300\n",
            "50000/50000 [==============================] - 7s 133us/step - loss: 1.9301 - acc: 0.3310 - val_loss: 1.8452 - val_acc: 0.3315\n",
            "Epoch 159/300\n",
            "50000/50000 [==============================] - 7s 133us/step - loss: 1.9418 - acc: 0.3261 - val_loss: 1.8462 - val_acc: 0.3410\n",
            "Epoch 160/300\n",
            "50000/50000 [==============================] - 7s 133us/step - loss: 1.9326 - acc: 0.3289 - val_loss: 1.8469 - val_acc: 0.3334\n",
            "Epoch 161/300\n",
            "50000/50000 [==============================] - 7s 132us/step - loss: 1.9301 - acc: 0.3289 - val_loss: 1.8313 - val_acc: 0.3391\n",
            "Epoch 162/300\n",
            "50000/50000 [==============================] - 7s 138us/step - loss: 1.9285 - acc: 0.3248 - val_loss: 1.8463 - val_acc: 0.3401\n",
            "Epoch 163/300\n",
            "50000/50000 [==============================] - 7s 135us/step - loss: 1.9469 - acc: 0.3227 - val_loss: 1.8526 - val_acc: 0.3293\n",
            "Epoch 164/300\n",
            "50000/50000 [==============================] - 7s 134us/step - loss: 1.9550 - acc: 0.3232 - val_loss: 1.8782 - val_acc: 0.3386\n",
            "Epoch 165/300\n",
            "50000/50000 [==============================] - 7s 135us/step - loss: 1.9451 - acc: 0.3285 - val_loss: 1.8905 - val_acc: 0.3370\n",
            "Epoch 166/300\n",
            "50000/50000 [==============================] - 7s 134us/step - loss: 1.9459 - acc: 0.3260 - val_loss: 1.8539 - val_acc: 0.3400\n",
            "Epoch 167/300\n",
            "50000/50000 [==============================] - 7s 134us/step - loss: 1.9422 - acc: 0.3237 - val_loss: 1.8220 - val_acc: 0.3438\n",
            "Epoch 168/300\n",
            "50000/50000 [==============================] - 7s 135us/step - loss: 1.9287 - acc: 0.3285 - val_loss: 1.8632 - val_acc: 0.3481\n",
            "Epoch 169/300\n",
            "50000/50000 [==============================] - 7s 134us/step - loss: 1.9416 - acc: 0.3237 - val_loss: 1.9172 - val_acc: 0.3314\n",
            "Epoch 170/300\n",
            "50000/50000 [==============================] - 7s 133us/step - loss: 1.9459 - acc: 0.3242 - val_loss: 1.8164 - val_acc: 0.3393\n",
            "Epoch 171/300\n",
            "50000/50000 [==============================] - 7s 133us/step - loss: 1.9411 - acc: 0.3257 - val_loss: 1.8260 - val_acc: 0.3478\n",
            "Epoch 172/300\n",
            "50000/50000 [==============================] - 7s 133us/step - loss: 1.9249 - acc: 0.3335 - val_loss: 1.8594 - val_acc: 0.3407\n",
            "Epoch 173/300\n",
            "50000/50000 [==============================] - 7s 133us/step - loss: 1.9442 - acc: 0.3273 - val_loss: 1.8486 - val_acc: 0.3348\n",
            "Epoch 174/300\n",
            "50000/50000 [==============================] - 7s 136us/step - loss: 1.9209 - acc: 0.3297 - val_loss: 1.8407 - val_acc: 0.3389\n",
            "Epoch 175/300\n",
            "50000/50000 [==============================] - 7s 135us/step - loss: 1.9260 - acc: 0.3315 - val_loss: 1.8288 - val_acc: 0.3459\n",
            "Epoch 176/300\n",
            "50000/50000 [==============================] - 7s 133us/step - loss: 1.9447 - acc: 0.3304 - val_loss: 1.9264 - val_acc: 0.3478\n",
            "Epoch 177/300\n",
            "50000/50000 [==============================] - 7s 133us/step - loss: 1.9438 - acc: 0.3277 - val_loss: 1.8317 - val_acc: 0.3548\n",
            "Epoch 178/300\n",
            "50000/50000 [==============================] - 7s 133us/step - loss: 1.9458 - acc: 0.3292 - val_loss: 1.8425 - val_acc: 0.3325\n",
            "Epoch 179/300\n",
            "50000/50000 [==============================] - 7s 131us/step - loss: 1.9448 - acc: 0.3255 - val_loss: 1.9330 - val_acc: 0.3394\n",
            "Epoch 180/300\n",
            "50000/50000 [==============================] - 7s 133us/step - loss: 1.9451 - acc: 0.3279 - val_loss: 1.8673 - val_acc: 0.3367\n",
            "Epoch 181/300\n",
            "50000/50000 [==============================] - 7s 132us/step - loss: 1.9309 - acc: 0.3303 - val_loss: 1.8564 - val_acc: 0.3442\n",
            "Epoch 182/300\n",
            "50000/50000 [==============================] - 7s 135us/step - loss: 1.9478 - acc: 0.3312 - val_loss: 1.8169 - val_acc: 0.3364\n",
            "Epoch 183/300\n",
            "50000/50000 [==============================] - 7s 140us/step - loss: 1.9238 - acc: 0.3254 - val_loss: 1.8227 - val_acc: 0.3407\n",
            "Epoch 184/300\n",
            "50000/50000 [==============================] - 7s 133us/step - loss: 1.9308 - acc: 0.3251 - val_loss: 1.8528 - val_acc: 0.3410\n",
            "Epoch 185/300\n",
            "50000/50000 [==============================] - 7s 133us/step - loss: 1.9426 - acc: 0.3251 - val_loss: 1.8358 - val_acc: 0.3289\n",
            "Epoch 186/300\n",
            "50000/50000 [==============================] - 7s 132us/step - loss: 1.9424 - acc: 0.3271 - val_loss: 1.8203 - val_acc: 0.3436\n",
            "Epoch 187/300\n",
            "50000/50000 [==============================] - 7s 132us/step - loss: 1.9421 - acc: 0.3270 - val_loss: 1.8513 - val_acc: 0.3321\n",
            "Epoch 188/300\n",
            "50000/50000 [==============================] - 7s 133us/step - loss: 1.9340 - acc: 0.3305 - val_loss: 1.8540 - val_acc: 0.3292\n",
            "Epoch 189/300\n",
            "50000/50000 [==============================] - 7s 133us/step - loss: 1.9281 - acc: 0.3319 - val_loss: 1.8372 - val_acc: 0.3435\n",
            "Epoch 190/300\n",
            "50000/50000 [==============================] - 7s 133us/step - loss: 1.9354 - acc: 0.3235 - val_loss: 1.8560 - val_acc: 0.3304\n",
            "Epoch 191/300\n",
            "50000/50000 [==============================] - 7s 133us/step - loss: 1.9335 - acc: 0.3249 - val_loss: 1.8594 - val_acc: 0.3211\n",
            "Epoch 192/300\n",
            "50000/50000 [==============================] - 7s 133us/step - loss: 1.9321 - acc: 0.3300 - val_loss: 1.8363 - val_acc: 0.3356\n",
            "Epoch 193/300\n",
            "50000/50000 [==============================] - 7s 134us/step - loss: 1.9472 - acc: 0.3277 - val_loss: 1.8174 - val_acc: 0.3369\n",
            "Epoch 194/300\n",
            "50000/50000 [==============================] - 7s 134us/step - loss: 1.9327 - acc: 0.3267 - val_loss: 1.8422 - val_acc: 0.3382\n",
            "Epoch 195/300\n",
            "50000/50000 [==============================] - 7s 133us/step - loss: 1.9503 - acc: 0.3263 - val_loss: 1.8774 - val_acc: 0.3425\n",
            "Epoch 196/300\n",
            "50000/50000 [==============================] - 7s 133us/step - loss: 1.9367 - acc: 0.3269 - val_loss: 1.8609 - val_acc: 0.3375\n",
            "Epoch 197/300\n",
            "50000/50000 [==============================] - 7s 136us/step - loss: 1.9314 - acc: 0.3269 - val_loss: 1.8637 - val_acc: 0.3476\n",
            "Epoch 198/300\n",
            "50000/50000 [==============================] - 7s 132us/step - loss: 1.9349 - acc: 0.3282 - val_loss: 1.8376 - val_acc: 0.3407\n",
            "Epoch 199/300\n",
            "50000/50000 [==============================] - 7s 132us/step - loss: 1.9347 - acc: 0.3285 - val_loss: 1.8175 - val_acc: 0.3398\n",
            "Epoch 200/300\n",
            "50000/50000 [==============================] - 7s 132us/step - loss: 1.9340 - acc: 0.3269 - val_loss: 1.8643 - val_acc: 0.3450\n",
            "Epoch 201/300\n",
            "50000/50000 [==============================] - 7s 133us/step - loss: 1.9434 - acc: 0.3270 - val_loss: 1.8964 - val_acc: 0.3356\n",
            "Epoch 202/300\n",
            "50000/50000 [==============================] - 7s 132us/step - loss: 1.9388 - acc: 0.3278 - val_loss: 1.8535 - val_acc: 0.3413\n",
            "Epoch 203/300\n",
            "50000/50000 [==============================] - 7s 131us/step - loss: 1.9430 - acc: 0.3286 - val_loss: 1.8683 - val_acc: 0.3379\n",
            "Epoch 204/300\n",
            "50000/50000 [==============================] - 7s 132us/step - loss: 1.9419 - acc: 0.3309 - val_loss: 1.8523 - val_acc: 0.3392\n",
            "Epoch 205/300\n",
            "50000/50000 [==============================] - 7s 132us/step - loss: 1.9634 - acc: 0.3253 - val_loss: 1.8846 - val_acc: 0.3418\n",
            "Epoch 206/300\n",
            "50000/50000 [==============================] - 7s 132us/step - loss: 1.9305 - acc: 0.3262 - val_loss: 1.8230 - val_acc: 0.3353\n",
            "Epoch 207/300\n",
            "50000/50000 [==============================] - 7s 131us/step - loss: 1.9319 - acc: 0.3263 - val_loss: 1.8656 - val_acc: 0.3453\n",
            "Epoch 208/300\n",
            "50000/50000 [==============================] - 7s 132us/step - loss: 1.9329 - acc: 0.3282 - val_loss: 1.8281 - val_acc: 0.3431\n",
            "Epoch 209/300\n",
            "50000/50000 [==============================] - 7s 133us/step - loss: 1.9394 - acc: 0.3253 - val_loss: 1.8664 - val_acc: 0.3370\n",
            "Epoch 210/300\n",
            "50000/50000 [==============================] - 7s 133us/step - loss: 1.9358 - acc: 0.3298 - val_loss: 1.8186 - val_acc: 0.3444\n",
            "Epoch 211/300\n",
            "50000/50000 [==============================] - 7s 132us/step - loss: 1.9417 - acc: 0.3262 - val_loss: 1.8398 - val_acc: 0.3360\n",
            "Epoch 212/300\n",
            "50000/50000 [==============================] - 7s 132us/step - loss: 1.9294 - acc: 0.3291 - val_loss: 1.8300 - val_acc: 0.3324\n",
            "Epoch 213/300\n",
            "50000/50000 [==============================] - 7s 133us/step - loss: 1.9309 - acc: 0.3236 - val_loss: 1.8285 - val_acc: 0.3436\n",
            "Epoch 214/300\n",
            "50000/50000 [==============================] - 7s 133us/step - loss: 1.9490 - acc: 0.3237 - val_loss: 1.9072 - val_acc: 0.3338\n",
            "Epoch 215/300\n",
            "50000/50000 [==============================] - 7s 134us/step - loss: 1.9438 - acc: 0.3267 - val_loss: 1.8418 - val_acc: 0.3320\n",
            "Epoch 216/300\n",
            "50000/50000 [==============================] - 7s 132us/step - loss: 1.9616 - acc: 0.3273 - val_loss: 1.8066 - val_acc: 0.3362\n",
            "Epoch 217/300\n",
            "50000/50000 [==============================] - 7s 132us/step - loss: 1.9378 - acc: 0.3282 - val_loss: 1.8363 - val_acc: 0.3410\n",
            "Epoch 218/300\n",
            "50000/50000 [==============================] - 7s 135us/step - loss: 1.9457 - acc: 0.3254 - val_loss: 1.8594 - val_acc: 0.3369\n",
            "Epoch 219/300\n",
            "50000/50000 [==============================] - 7s 132us/step - loss: 1.9329 - acc: 0.3238 - val_loss: 1.8498 - val_acc: 0.3306\n",
            "Epoch 220/300\n",
            "50000/50000 [==============================] - 7s 134us/step - loss: 1.9357 - acc: 0.3222 - val_loss: 1.8286 - val_acc: 0.3532\n",
            "Epoch 221/300\n",
            "50000/50000 [==============================] - 7s 132us/step - loss: 1.9156 - acc: 0.3237 - val_loss: 1.8430 - val_acc: 0.3493\n",
            "Epoch 222/300\n",
            "50000/50000 [==============================] - 7s 132us/step - loss: 1.9208 - acc: 0.3271 - val_loss: 1.8500 - val_acc: 0.3480\n",
            "Epoch 223/300\n",
            "50000/50000 [==============================] - 7s 132us/step - loss: 1.9273 - acc: 0.3275 - val_loss: 1.8304 - val_acc: 0.3328\n",
            "Epoch 224/300\n",
            "50000/50000 [==============================] - 7s 133us/step - loss: 1.9379 - acc: 0.3271 - val_loss: 1.8525 - val_acc: 0.3346\n",
            "Epoch 225/300\n",
            "50000/50000 [==============================] - 7s 132us/step - loss: 1.9440 - acc: 0.3273 - val_loss: 1.8279 - val_acc: 0.3398\n",
            "Epoch 226/300\n",
            "50000/50000 [==============================] - 7s 132us/step - loss: 1.9356 - acc: 0.3285 - val_loss: 1.8392 - val_acc: 0.3351\n",
            "Epoch 227/300\n",
            "50000/50000 [==============================] - 7s 134us/step - loss: 1.9231 - acc: 0.3259 - val_loss: 1.8188 - val_acc: 0.3476\n",
            "Epoch 228/300\n",
            "50000/50000 [==============================] - 7s 132us/step - loss: 1.9185 - acc: 0.3239 - val_loss: 1.8655 - val_acc: 0.3453\n",
            "Epoch 229/300\n",
            "50000/50000 [==============================] - 7s 132us/step - loss: 1.9475 - acc: 0.3268 - val_loss: 1.8345 - val_acc: 0.3407\n",
            "Epoch 230/300\n",
            "50000/50000 [==============================] - 7s 132us/step - loss: 1.9311 - acc: 0.3283 - val_loss: 1.8250 - val_acc: 0.3484\n",
            "Epoch 231/300\n",
            "50000/50000 [==============================] - 7s 132us/step - loss: 1.9385 - acc: 0.3210 - val_loss: 1.8216 - val_acc: 0.3491\n",
            "Epoch 232/300\n",
            "50000/50000 [==============================] - 7s 132us/step - loss: 1.9449 - acc: 0.3295 - val_loss: 1.8202 - val_acc: 0.3444\n",
            "Epoch 233/300\n",
            "50000/50000 [==============================] - 7s 136us/step - loss: 1.9420 - acc: 0.3252 - val_loss: 2.1138 - val_acc: 0.3290\n",
            "Epoch 234/300\n",
            "50000/50000 [==============================] - 7s 134us/step - loss: 1.9499 - acc: 0.3231 - val_loss: 1.8097 - val_acc: 0.3386\n",
            "Epoch 235/300\n",
            "50000/50000 [==============================] - 7s 135us/step - loss: 1.9200 - acc: 0.3258 - val_loss: 1.8150 - val_acc: 0.3382\n",
            "Epoch 236/300\n",
            "50000/50000 [==============================] - 7s 135us/step - loss: 1.9356 - acc: 0.3269 - val_loss: 1.8825 - val_acc: 0.3381\n",
            "Epoch 237/300\n",
            "50000/50000 [==============================] - 7s 136us/step - loss: 1.9335 - acc: 0.3247 - val_loss: 1.8325 - val_acc: 0.3309\n",
            "Epoch 238/300\n",
            "50000/50000 [==============================] - 7s 136us/step - loss: 1.9408 - acc: 0.3261 - val_loss: 1.8430 - val_acc: 0.3303\n",
            "Epoch 239/300\n",
            "50000/50000 [==============================] - 7s 133us/step - loss: 1.9567 - acc: 0.3254 - val_loss: 1.9657 - val_acc: 0.3288\n",
            "Epoch 240/300\n",
            "50000/50000 [==============================] - 7s 134us/step - loss: 1.9388 - acc: 0.3276 - val_loss: 1.8453 - val_acc: 0.3295\n",
            "Epoch 241/300\n",
            "50000/50000 [==============================] - 7s 133us/step - loss: 1.9481 - acc: 0.3257 - val_loss: 1.8468 - val_acc: 0.3235\n",
            "Epoch 242/300\n",
            "50000/50000 [==============================] - 7s 133us/step - loss: 1.9388 - acc: 0.3243 - val_loss: 1.8337 - val_acc: 0.3349\n",
            "Epoch 243/300\n",
            "50000/50000 [==============================] - 7s 133us/step - loss: 1.9327 - acc: 0.3206 - val_loss: 1.8271 - val_acc: 0.3426\n",
            "Epoch 244/300\n",
            "50000/50000 [==============================] - 7s 133us/step - loss: 1.9269 - acc: 0.3259 - val_loss: 1.8437 - val_acc: 0.3376\n",
            "Epoch 245/300\n",
            "50000/50000 [==============================] - 7s 133us/step - loss: 1.9178 - acc: 0.3245 - val_loss: 1.8612 - val_acc: 0.3453\n",
            "Epoch 246/300\n",
            "50000/50000 [==============================] - 7s 132us/step - loss: 1.9450 - acc: 0.3270 - val_loss: 1.8471 - val_acc: 0.3456\n",
            "Epoch 247/300\n",
            "50000/50000 [==============================] - 7s 134us/step - loss: 1.9487 - acc: 0.3220 - val_loss: 1.8359 - val_acc: 0.3333\n",
            "Epoch 248/300\n",
            "50000/50000 [==============================] - 7s 133us/step - loss: 1.9368 - acc: 0.3291 - val_loss: 1.8492 - val_acc: 0.3432\n",
            "Epoch 249/300\n",
            "50000/50000 [==============================] - 7s 133us/step - loss: 1.9301 - acc: 0.3253 - val_loss: 1.8153 - val_acc: 0.3521\n",
            "Epoch 250/300\n",
            "50000/50000 [==============================] - 7s 135us/step - loss: 1.9411 - acc: 0.3278 - val_loss: 1.8288 - val_acc: 0.3475\n",
            "Epoch 251/300\n",
            "50000/50000 [==============================] - 7s 133us/step - loss: 1.9253 - acc: 0.3233 - val_loss: 1.8298 - val_acc: 0.3373\n",
            "Epoch 252/300\n",
            "50000/50000 [==============================] - 7s 133us/step - loss: 1.9363 - acc: 0.3274 - val_loss: 1.8625 - val_acc: 0.3418\n",
            "Epoch 253/300\n",
            "50000/50000 [==============================] - 7s 134us/step - loss: 1.9525 - acc: 0.3264 - val_loss: 1.7995 - val_acc: 0.3460\n",
            "Epoch 254/300\n",
            "50000/50000 [==============================] - 7s 133us/step - loss: 1.9480 - acc: 0.3269 - val_loss: 1.8804 - val_acc: 0.3285\n",
            "Epoch 255/300\n",
            "50000/50000 [==============================] - 7s 134us/step - loss: 1.9407 - acc: 0.3272 - val_loss: 1.8829 - val_acc: 0.3165\n",
            "Epoch 256/300\n",
            "50000/50000 [==============================] - 7s 135us/step - loss: 1.9460 - acc: 0.3213 - val_loss: 1.9036 - val_acc: 0.3216\n",
            "Epoch 257/300\n",
            "50000/50000 [==============================] - 7s 133us/step - loss: 1.9697 - acc: 0.3252 - val_loss: 1.8734 - val_acc: 0.3331\n",
            "Epoch 258/300\n",
            "50000/50000 [==============================] - 7s 134us/step - loss: 1.9322 - acc: 0.3308 - val_loss: 1.8303 - val_acc: 0.3399\n",
            "Epoch 259/300\n",
            "50000/50000 [==============================] - 7s 133us/step - loss: 1.9203 - acc: 0.3275 - val_loss: 1.8364 - val_acc: 0.3376\n",
            "Epoch 260/300\n",
            "50000/50000 [==============================] - 7s 136us/step - loss: 1.9556 - acc: 0.3266 - val_loss: 1.8854 - val_acc: 0.3515\n",
            "Epoch 261/300\n",
            "50000/50000 [==============================] - 7s 134us/step - loss: 1.9496 - acc: 0.3270 - val_loss: 1.8383 - val_acc: 0.3368\n",
            "Epoch 262/300\n",
            "50000/50000 [==============================] - 7s 134us/step - loss: 1.9419 - acc: 0.3280 - val_loss: 1.8320 - val_acc: 0.3390\n",
            "Epoch 263/300\n",
            "50000/50000 [==============================] - 7s 133us/step - loss: 1.9497 - acc: 0.3267 - val_loss: 1.8933 - val_acc: 0.3427\n",
            "Epoch 264/300\n",
            "50000/50000 [==============================] - 7s 133us/step - loss: 1.9439 - acc: 0.3262 - val_loss: 1.9118 - val_acc: 0.3198\n",
            "Epoch 265/300\n",
            "50000/50000 [==============================] - 7s 133us/step - loss: 1.9434 - acc: 0.3228 - val_loss: 1.8396 - val_acc: 0.3399\n",
            "Epoch 266/300\n",
            "50000/50000 [==============================] - 7s 133us/step - loss: 1.9375 - acc: 0.3249 - val_loss: 1.8754 - val_acc: 0.3382\n",
            "Epoch 267/300\n",
            "50000/50000 [==============================] - 7s 133us/step - loss: 1.9365 - acc: 0.3293 - val_loss: 1.8394 - val_acc: 0.3394\n",
            "Epoch 268/300\n",
            "50000/50000 [==============================] - 7s 133us/step - loss: 1.9370 - acc: 0.3276 - val_loss: 1.8762 - val_acc: 0.3334\n",
            "Epoch 269/300\n",
            "50000/50000 [==============================] - 7s 133us/step - loss: 1.9574 - acc: 0.3234 - val_loss: 1.8288 - val_acc: 0.3255\n",
            "Epoch 270/300\n",
            "50000/50000 [==============================] - 7s 134us/step - loss: 1.9479 - acc: 0.3265 - val_loss: 1.8402 - val_acc: 0.3421\n",
            "Epoch 271/300\n",
            "50000/50000 [==============================] - 7s 133us/step - loss: 1.9656 - acc: 0.3258 - val_loss: 1.8677 - val_acc: 0.3296\n",
            "Epoch 272/300\n",
            "50000/50000 [==============================] - 7s 134us/step - loss: 1.9437 - acc: 0.3274 - val_loss: 1.8020 - val_acc: 0.3546\n",
            "Epoch 273/300\n",
            "50000/50000 [==============================] - 7s 138us/step - loss: 1.9601 - acc: 0.3291 - val_loss: 1.8771 - val_acc: 0.3440\n",
            "Epoch 274/300\n",
            "50000/50000 [==============================] - 7s 133us/step - loss: 1.9384 - acc: 0.3263 - val_loss: 1.8746 - val_acc: 0.3377\n",
            "Epoch 275/300\n",
            "50000/50000 [==============================] - 7s 133us/step - loss: 1.9348 - acc: 0.3281 - val_loss: 1.8715 - val_acc: 0.3385\n",
            "Epoch 276/300\n",
            "50000/50000 [==============================] - 7s 134us/step - loss: 1.9513 - acc: 0.3256 - val_loss: 1.8338 - val_acc: 0.3325\n",
            "Epoch 277/300\n",
            "50000/50000 [==============================] - 7s 133us/step - loss: 1.9608 - acc: 0.3257 - val_loss: 1.8927 - val_acc: 0.3420\n",
            "Epoch 278/300\n",
            "50000/50000 [==============================] - 7s 135us/step - loss: 1.9443 - acc: 0.3253 - val_loss: 1.8532 - val_acc: 0.3338\n",
            "Epoch 279/300\n",
            "50000/50000 [==============================] - 7s 134us/step - loss: 1.9404 - acc: 0.3308 - val_loss: 1.8793 - val_acc: 0.3400\n",
            "Epoch 280/300\n",
            "50000/50000 [==============================] - 7s 133us/step - loss: 1.9430 - acc: 0.3249 - val_loss: 1.8843 - val_acc: 0.3414\n",
            "Epoch 281/300\n",
            "50000/50000 [==============================] - 7s 134us/step - loss: 1.9626 - acc: 0.3216 - val_loss: 1.8442 - val_acc: 0.3428\n",
            "Epoch 282/300\n",
            "50000/50000 [==============================] - 7s 134us/step - loss: 1.9522 - acc: 0.3282 - val_loss: 1.8692 - val_acc: 0.3363\n",
            "Epoch 283/300\n",
            "50000/50000 [==============================] - 7s 133us/step - loss: 1.9557 - acc: 0.3284 - val_loss: 1.8479 - val_acc: 0.3475\n",
            "Epoch 284/300\n",
            "50000/50000 [==============================] - 7s 139us/step - loss: 1.9481 - acc: 0.3296 - val_loss: 1.8620 - val_acc: 0.3353\n",
            "Epoch 285/300\n",
            "50000/50000 [==============================] - 7s 133us/step - loss: 1.9485 - acc: 0.3227 - val_loss: 1.8708 - val_acc: 0.3311\n",
            "Epoch 286/300\n",
            "50000/50000 [==============================] - 7s 134us/step - loss: 1.9527 - acc: 0.3242 - val_loss: 1.8737 - val_acc: 0.3418\n",
            "Epoch 287/300\n",
            "50000/50000 [==============================] - 7s 133us/step - loss: 1.9438 - acc: 0.3254 - val_loss: 1.8484 - val_acc: 0.3492\n",
            "Epoch 288/300\n",
            "50000/50000 [==============================] - 7s 133us/step - loss: 1.9426 - acc: 0.3236 - val_loss: 1.8489 - val_acc: 0.3449\n",
            "Epoch 289/300\n",
            "50000/50000 [==============================] - 7s 134us/step - loss: 1.9302 - acc: 0.3252 - val_loss: 1.8710 - val_acc: 0.3385\n",
            "Epoch 290/300\n",
            "50000/50000 [==============================] - 7s 135us/step - loss: 1.9360 - acc: 0.3249 - val_loss: 1.8515 - val_acc: 0.3285\n",
            "Epoch 291/300\n",
            "50000/50000 [==============================] - 7s 133us/step - loss: 1.9332 - acc: 0.3264 - val_loss: 1.8347 - val_acc: 0.3462\n",
            "Epoch 292/300\n",
            "50000/50000 [==============================] - 7s 133us/step - loss: 1.9426 - acc: 0.3287 - val_loss: 1.8837 - val_acc: 0.3401\n",
            "Epoch 293/300\n",
            "50000/50000 [==============================] - 7s 133us/step - loss: 1.9508 - acc: 0.3284 - val_loss: 1.8426 - val_acc: 0.3396\n",
            "Epoch 294/300\n",
            "50000/50000 [==============================] - 7s 133us/step - loss: 1.9409 - acc: 0.3245 - val_loss: 1.8434 - val_acc: 0.3421\n",
            "Epoch 295/300\n",
            "50000/50000 [==============================] - 7s 134us/step - loss: 1.9199 - acc: 0.3306 - val_loss: 1.8526 - val_acc: 0.3457\n",
            "Epoch 296/300\n",
            "50000/50000 [==============================] - 7s 133us/step - loss: 1.9416 - acc: 0.3296 - val_loss: 1.8610 - val_acc: 0.3431\n",
            "Epoch 297/300\n",
            "50000/50000 [==============================] - 12s 232us/step - loss: 1.9509 - acc: 0.3256 - val_loss: 1.8272 - val_acc: 0.3343\n",
            "Epoch 298/300\n",
            "50000/50000 [==============================] - 13s 256us/step - loss: 1.9572 - acc: 0.3249 - val_loss: 1.8873 - val_acc: 0.3415\n",
            "Epoch 299/300\n",
            "50000/50000 [==============================] - 13s 265us/step - loss: 1.9264 - acc: 0.3260 - val_loss: 1.8802 - val_acc: 0.3389\n",
            "Epoch 300/300\n",
            "50000/50000 [==============================] - 13s 262us/step - loss: 1.9281 - acc: 0.3261 - val_loss: 1.8521 - val_acc: 0.3396\n",
            "10000/10000 [==============================] - 2s 215us/step\n"
          ],
          "name": "stdout"
        }
      ]
    },
    {
      "metadata": {
        "colab_type": "code",
        "outputId": "f49380a1-0c36-41e4-ec8a-7dff902a6180",
        "id": "aKt8Q6UdXsL_",
        "colab": {
          "base_uri": "https://localhost:8080/",
          "height": 52
        }
      },
      "cell_type": "code",
      "source": [
        "  print('Test loss:', score3[0])\n",
        "  print('Test accuracy:', score3[1])"
      ],
      "execution_count": 8,
      "outputs": [
        {
          "output_type": "stream",
          "text": [
            "Test loss: 1.852130404663086\n",
            "Test accuracy: 0.3396\n"
          ],
          "name": "stdout"
        }
      ]
    },
    {
      "metadata": {
        "colab_type": "code",
        "outputId": "ba890d8f-e8b4-42d8-b9c0-703250816abc",
        "id": "FLihmy35XsMT",
        "colab": {
          "base_uri": "https://localhost:8080/",
          "height": 294
        }
      },
      "cell_type": "code",
      "source": [
        "# summarize history for accuracy\n",
        "plt.plot(history3.history['acc'])\n",
        "plt.plot(history3.history['val_acc'])\n",
        "plt.title('model accuracy')\n",
        "plt.ylabel('accuracy')\n",
        "plt.xlabel('epoch')\n",
        "plt.legend(['train', 'test'], loc='upper left')\n",
        "plt.show()"
      ],
      "execution_count": 9,
      "outputs": [
        {
          "output_type": "display_data",
          "data": {
            "image/png": "[encoded data removed]",
            "text/plain": [
              "<Figure size 432x288 with 1 Axes>"
            ]
          },
          "metadata": {
            "tags": []
          }
        }
      ]
    },
    {
      "metadata": {
        "colab_type": "code",
        "outputId": "a52f3557-2cac-4172-810a-f937ecde6d2b",
        "id": "qNmvO2KfXsMe",
        "colab": {
          "base_uri": "https://localhost:8080/",
          "height": 294
        }
      },
      "cell_type": "code",
      "source": [
        "# summarize history for accuracy\n",
        "plt.plot(history3.history['loss'])\n",
        "plt.plot(history3.history['val_loss'])\n",
        "plt.title('model loss')\n",
        "plt.ylabel('accuracy')\n",
        "plt.xlabel('epoch')\n",
        "plt.legend(['train', 'test'], loc='upper left')\n",
        "plt.show()"
      ],
      "execution_count": 10,
      "outputs": [
        {
          "output_type": "display_data",
          "data": {
            "image/png": "[encoded data removed]",
            "text/plain": [
              "<Figure size 432x288 with 1 Axes>"
            ]
          },
          "metadata": {
            "tags": []
          }
        }
      ]
    },
    {
      "metadata": {
        "colab_type": "text",
        "id": "xp21V_uVlSq3"
      },
      "cell_type": "markdown",
      "source": [
        "#Model four parameters\n",
        "\n",
        "Relu did work. Trying different hyperparameters.\n",
        "\n",
        "1.   Hidden layers = 2\n",
        "2.   hidden_num_units = 1024, 512\n",
        "3.   output_num_units = 10\n",
        "4.   epochs = 5\n",
        "5.   batch_size = 16\n",
        "6.   output activation_function = 'tanh'\n",
        "7.   layer activation_function = \"tanh\"\n"
      ]
    },
    {
      "metadata": {
        "colab_type": "code",
        "id": "o3_UwaQrlSq8",
        "colab": {}
      },
      "cell_type": "code",
      "source": [
        "\n",
        "\n",
        "model = Sequential()\n",
        "model.add(Flatten(input_shape=(32, 32, 3)))\n",
        "\n",
        "\n",
        "\n",
        "model.add(Dense(512,activation='tanh'))\n",
        "model.add(Dropout(0.2))\n",
        "\n",
        "model.add(Dense(10, activation='tanh'))\n",
        "\n",
        "lrrate = 0.01\n",
        "epochs = 5\n",
        "decay = lrrate/epochs\n",
        "\n",
        "sgd = SGD(lr=lrrate, momentum=0.9, decay=decay, nesterov=False)\n",
        "\n",
        "model.compile(optimizer='rmsprop',\n",
        "                loss='categorical_crossentropy',\n",
        "                metrics=['accuracy'])\n",
        "\n"
      ],
      "execution_count": 0,
      "outputs": []
    },
    {
      "metadata": {
        "colab_type": "code",
        "outputId": "25bc90af-0b0a-4156-94e5-6aca874d569b",
        "id": "joZyMYuvlSrH",
        "colab": {
          "base_uri": "https://localhost:8080/",
          "height": 230
        }
      },
      "cell_type": "code",
      "source": [
        "#def fitTheModel():\n",
        "  \n",
        "  history4 = model.fit(X_train, train_labels, epochs=5, batch_size=16, validation_data=(X_test,test_labels))\n",
        "  \n",
        "  score4 = model.evaluate(X_test,test_labels)\n",
        "  \n",
        "  "
      ],
      "execution_count": 0,
      "outputs": [
        {
          "output_type": "stream",
          "text": [
            "Train on 50000 samples, validate on 10000 samples\n",
            "Epoch 1/5\n",
            "50000/50000 [==============================] - 26s 522us/step - loss: 8.1881 - acc: 0.0992 - val_loss: 8.0623 - val_acc: 0.1000\n",
            "Epoch 2/5\n",
            "50000/50000 [==============================] - 21s 426us/step - loss: 8.2421 - acc: 0.1000 - val_loss: 8.0623 - val_acc: 0.1000\n",
            "Epoch 3/5\n",
            "50000/50000 [==============================] - 18s 363us/step - loss: 7.2435 - acc: 0.1000 - val_loss: 1.1921e-07 - val_acc: 0.1000\n",
            "Epoch 4/5\n",
            "50000/50000 [==============================] - 18s 361us/step - loss: 1.1921e-07 - acc: 0.1000 - val_loss: 1.1921e-07 - val_acc: 0.1000\n",
            "Epoch 5/5\n",
            "50000/50000 [==============================] - 18s 364us/step - loss: 1.1921e-07 - acc: 0.1000 - val_loss: 1.1921e-07 - val_acc: 0.1000\n",
            "10000/10000 [==============================] - 1s 72us/step\n"
          ],
          "name": "stdout"
        }
      ]
    },
    {
      "metadata": {
        "colab_type": "code",
        "outputId": "5c4e7839-f14a-464d-f214-75f50e72d8a2",
        "id": "m_vhJistlSrQ",
        "colab": {
          "base_uri": "https://localhost:8080/",
          "height": 52
        }
      },
      "cell_type": "code",
      "source": [
        "  print('Test loss:', score4[0])\n",
        "  print('Test accuracy:', score4[1])"
      ],
      "execution_count": 0,
      "outputs": [
        {
          "output_type": "stream",
          "text": [
            "Test loss: 1.1920930376163597e-07\n",
            "Test accuracy: 0.1\n"
          ],
          "name": "stdout"
        }
      ]
    },
    {
      "metadata": {
        "colab_type": "code",
        "outputId": "cd1e63bc-a003-4ea5-edea-81935f42fe19",
        "id": "Bdkkl-VflSrV",
        "colab": {
          "base_uri": "https://localhost:8080/",
          "height": 294
        }
      },
      "cell_type": "code",
      "source": [
        "# summarize history for accuracy\n",
        "plt.plot(history4.history['acc'])\n",
        "plt.plot(history4.history['val_acc'])\n",
        "plt.title('model accuracy')\n",
        "plt.ylabel('accuracy')\n",
        "plt.xlabel('epoch')\n",
        "plt.legend(['train', 'test'], loc='upper left')\n",
        "plt.show()"
      ],
      "execution_count": 0,
      "outputs": [
        {
          "output_type": "display_data",
          "data": {
            "image/png": "[encoded data removed]",
            "text/plain": [
              "<Figure size 432x288 with 1 Axes>"
            ]
          },
          "metadata": {
            "tags": []
          }
        }
      ]
    },
    {
      "metadata": {
        "colab_type": "code",
        "outputId": "ffa3bcee-5823-4619-c98f-ba75bd8305b2",
        "id": "Q7PZkLQslSrY",
        "colab": {
          "base_uri": "https://localhost:8080/",
          "height": 294
        }
      },
      "cell_type": "code",
      "source": [
        "# summarize history for accuracy\n",
        "plt.plot(history4.history['loss'])\n",
        "plt.plot(history4.history['val_loss'])\n",
        "plt.title('model loss')\n",
        "plt.ylabel('accuracy')\n",
        "plt.xlabel('epoch')\n",
        "plt.legend(['train', 'test'], loc='upper left')\n",
        "plt.show()"
      ],
      "execution_count": 0,
      "outputs": [
        {
          "output_type": "display_data",
          "data": {
            "image/png": "[encoded data removed]",
            "text/plain": [
              "<Figure size 432x288 with 1 Axes>"
            ]
          },
          "metadata": {
            "tags": []
          }
        }
      ]
    },
    {
      "metadata": {
        "id": "YZk8pDaS3pWa",
        "colab_type": "text"
      },
      "cell_type": "markdown",
      "source": [
        "Model 5 failed completely"
      ]
    },
    {
      "metadata": {
        "id": "qu-WXGJm3uph",
        "colab_type": "text"
      },
      "cell_type": "markdown",
      "source": [
        "\n",
        "\n",
        "**Conclusion**\n",
        "\n",
        "Running different combinations of hyperparameter values for Tanh the best validation accuracy I got is 34% so model 4 is the best amongst all."
      ]
    }
  ]
}